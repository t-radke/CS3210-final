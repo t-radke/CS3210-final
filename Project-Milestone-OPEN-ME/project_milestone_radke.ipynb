{
 "cells": [
  {
   "cell_type": "markdown",
   "metadata": {},
   "source": [
    "# NFL Game Outcome Prediction\n",
    "This project aims to predict the outcomes (win/loss) of NFL games using a Random Forest model. \n",
    "Key features include rushing attempts, passing attempts, sacks allowed, and other game statistics. \n",
    "The dataset is sourced from NFL FastR, and this notebook details the data preprocessing, model training, and evaluation.\n"
   ]
  },
  {
   "cell_type": "markdown",
   "metadata": {},
   "source": [
    "# Import Libraries"
   ]
  },
  {
   "cell_type": "code",
   "execution_count": 2,
   "metadata": {},
   "outputs": [
    {
     "name": "stderr",
     "output_type": "stream",
     "text": [
      "Matplotlib is building the font cache; this may take a moment.\n"
     ]
    }
   ],
   "source": [
    "import pandas as pd\n",
    "import numpy as np\n",
    "from sklearn.ensemble import RandomForestClassifier\n",
    "from sklearn.model_selection import train_test_split\n",
    "from sklearn.metrics import accuracy_score, confusion_matrix, classification_report\n",
    "import seaborn as sns\n",
    "import matplotlib.pyplot as plt\n"
   ]
  },
  {
   "cell_type": "markdown",
   "metadata": {},
   "source": [
    "## Data Collection and Description\n",
    "The dataset used for this project is fetched from NFL FastR. It includes game-level statistics for NFL teams, \n",
    "such as rushing yards, passing yards, sacks allowed, and points scored.\n"
   ]
  },
  {
   "cell_type": "code",
   "execution_count": 6,
   "metadata": {},
   "outputs": [
    {
     "data": {
      "text/html": [
       "<div>\n",
       "<style scoped>\n",
       "    .dataframe tbody tr th:only-of-type {\n",
       "        vertical-align: middle;\n",
       "    }\n",
       "\n",
       "    .dataframe tbody tr th {\n",
       "        vertical-align: top;\n",
       "    }\n",
       "\n",
       "    .dataframe thead th {\n",
       "        text-align: right;\n",
       "    }\n",
       "</style>\n",
       "<table border=\"1\" class=\"dataframe\">\n",
       "  <thead>\n",
       "    <tr style=\"text-align: right;\">\n",
       "      <th></th>\n",
       "      <th>game_id</th>\n",
       "      <th>rush_attempt</th>\n",
       "      <th>pass_attempt</th>\n",
       "      <th>sack</th>\n",
       "      <th>passing_yards</th>\n",
       "      <th>rushing_yards</th>\n",
       "      <th>home_team</th>\n",
       "      <th>away_team</th>\n",
       "      <th>total_home_score</th>\n",
       "      <th>total_away_score</th>\n",
       "      <th>is_home_team</th>\n",
       "      <th>win</th>\n",
       "    </tr>\n",
       "  </thead>\n",
       "  <tbody>\n",
       "    <tr>\n",
       "      <th>0</th>\n",
       "      <td>2024_01_ARI_BUF</td>\n",
       "      <td>26.0</td>\n",
       "      <td>35.0</td>\n",
       "      <td>4.0</td>\n",
       "      <td>162.0</td>\n",
       "      <td>124.0</td>\n",
       "      <td>BUF</td>\n",
       "      <td>ARI</td>\n",
       "      <td>34</td>\n",
       "      <td>28</td>\n",
       "      <td>False</td>\n",
       "      <td>0</td>\n",
       "    </tr>\n",
       "    <tr>\n",
       "      <th>1</th>\n",
       "      <td>2024_01_ARI_BUF</td>\n",
       "      <td>33.0</td>\n",
       "      <td>25.0</td>\n",
       "      <td>2.0</td>\n",
       "      <td>232.0</td>\n",
       "      <td>130.0</td>\n",
       "      <td>BUF</td>\n",
       "      <td>ARI</td>\n",
       "      <td>34</td>\n",
       "      <td>28</td>\n",
       "      <td>True</td>\n",
       "      <td>1</td>\n",
       "    </tr>\n",
       "    <tr>\n",
       "      <th>2</th>\n",
       "      <td>2024_01_BAL_KC</td>\n",
       "      <td>32.0</td>\n",
       "      <td>42.0</td>\n",
       "      <td>1.0</td>\n",
       "      <td>273.0</td>\n",
       "      <td>185.0</td>\n",
       "      <td>KC</td>\n",
       "      <td>BAL</td>\n",
       "      <td>27</td>\n",
       "      <td>20</td>\n",
       "      <td>False</td>\n",
       "      <td>0</td>\n",
       "    </tr>\n",
       "    <tr>\n",
       "      <th>3</th>\n",
       "      <td>2024_01_BAL_KC</td>\n",
       "      <td>20.0</td>\n",
       "      <td>30.0</td>\n",
       "      <td>2.0</td>\n",
       "      <td>291.0</td>\n",
       "      <td>72.0</td>\n",
       "      <td>KC</td>\n",
       "      <td>BAL</td>\n",
       "      <td>27</td>\n",
       "      <td>20</td>\n",
       "      <td>True</td>\n",
       "      <td>1</td>\n",
       "    </tr>\n",
       "    <tr>\n",
       "      <th>4</th>\n",
       "      <td>2024_01_CAR_NO</td>\n",
       "      <td>20.0</td>\n",
       "      <td>35.0</td>\n",
       "      <td>4.0</td>\n",
       "      <td>161.0</td>\n",
       "      <td>58.0</td>\n",
       "      <td>NO</td>\n",
       "      <td>CAR</td>\n",
       "      <td>47</td>\n",
       "      <td>10</td>\n",
       "      <td>False</td>\n",
       "      <td>0</td>\n",
       "    </tr>\n",
       "  </tbody>\n",
       "</table>\n",
       "</div>"
      ],
      "text/plain": [
       "           game_id  rush_attempt  pass_attempt  sack  passing_yards  \\\n",
       "0  2024_01_ARI_BUF          26.0          35.0   4.0          162.0   \n",
       "1  2024_01_ARI_BUF          33.0          25.0   2.0          232.0   \n",
       "2   2024_01_BAL_KC          32.0          42.0   1.0          273.0   \n",
       "3   2024_01_BAL_KC          20.0          30.0   2.0          291.0   \n",
       "4   2024_01_CAR_NO          20.0          35.0   4.0          161.0   \n",
       "\n",
       "   rushing_yards home_team away_team  total_home_score  total_away_score  \\\n",
       "0          124.0       BUF       ARI                34                28   \n",
       "1          130.0       BUF       ARI                34                28   \n",
       "2          185.0        KC       BAL                27                20   \n",
       "3           72.0        KC       BAL                27                20   \n",
       "4           58.0        NO       CAR                47                10   \n",
       "\n",
       "   is_home_team  win  \n",
       "0         False    0  \n",
       "1          True    1  \n",
       "2         False    0  \n",
       "3          True    1  \n",
       "4         False    0  "
      ]
     },
     "execution_count": 6,
     "metadata": {},
     "output_type": "execute_result"
    }
   ],
   "source": [
    "# Load the dataset\n",
    "data = pd.read_csv('team_game_stats.csv')  # Replace with your dataset file path\n",
    "data.head()"
   ]
  },
  {
   "cell_type": "markdown",
   "metadata": {},
   "source": [
    "## Data Preprocessing\n",
    "### Steps:\n",
    "1. Handle missing values.\n",
    "2. Select relevant features for the model.\n",
    "3. Create a target variable: Win (1) / Loss (0).\n",
    "4. Split the data into training and testing sets.\n"
   ]
  },
  {
   "cell_type": "code",
   "execution_count": 8,
   "metadata": {},
   "outputs": [
    {
     "name": "stdout",
     "output_type": "stream",
     "text": [
      "Accuracy: 0.7910447761194029\n",
      "Confusion Matrix:\n",
      " [[23  6]\n",
      " [ 8 30]]\n",
      "Classification Report:\n",
      "               precision    recall  f1-score   support\n",
      "\n",
      "           0       0.74      0.79      0.77        29\n",
      "           1       0.83      0.79      0.81        38\n",
      "\n",
      "    accuracy                           0.79        67\n",
      "   macro avg       0.79      0.79      0.79        67\n",
      "weighted avg       0.79      0.79      0.79        67\n",
      "\n"
     ]
    }
   ],
   "source": [
    "from sklearn.ensemble import RandomForestClassifier\n",
    "from sklearn.model_selection import train_test_split\n",
    "from sklearn.metrics import accuracy_score, confusion_matrix, classification_report\n",
    "\n",
    "# 1. Define features and target\n",
    "features = ['rush_attempt', 'pass_attempt', 'sack', 'passing_yards', 'rushing_yards']\n",
    "X = data[features]\n",
    "y = data['win']\n",
    "\n",
    "# 2. Split the data\n",
    "X_train, X_test, y_train, y_test = train_test_split(X, y, test_size=0.2, random_state=42)\n",
    "\n",
    "# 3. Train the Random Forest model\n",
    "model = RandomForestClassifier(n_estimators=100, random_state=42)\n",
    "model.fit(X_train, y_train)\n",
    "\n",
    "# 4. Evaluate the model\n",
    "y_pred = model.predict(X_test)\n",
    "\n",
    "print(\"Accuracy:\", accuracy_score(y_test, y_pred))\n",
    "print(\"Confusion Matrix:\\n\", confusion_matrix(y_test, y_pred))\n",
    "print(\"Classification Report:\\n\", classification_report(y_test, y_pred))\n"
   ]
  },
  {
   "cell_type": "markdown",
   "metadata": {},
   "source": [
    "## Step 5: Model Evaluation\n",
    "\n",
    "In this step, we evaluate the performance of the Random Forest model and analyze the importance of each feature.\n",
    "\n",
    "### Metrics Evaluated:\n",
    "1. **Accuracy:** Percentage of correct predictions.\n",
    "2. **Confusion Matrix:** Breakdown of true/false positives and negatives.\n",
    "3. **Classification Report:** Precision, recall, and F1-score for each class (win or loss).\n",
    "\n",
    "### Feature Importance:\n",
    "We analyze the contribution of each feature to the predictions using the model's feature importance scores.\n"
   ]
  },
  {
   "cell_type": "code",
   "execution_count": 9,
   "metadata": {},
   "outputs": [
    {
     "name": "stdout",
     "output_type": "stream",
     "text": [
      "Accuracy: 0.7910447761194029\n",
      "Confusion Matrix:\n",
      " [[23  6]\n",
      " [ 8 30]]\n",
      "Classification Report:\n",
      "               precision    recall  f1-score   support\n",
      "\n",
      "           0       0.74      0.79      0.77        29\n",
      "           1       0.83      0.79      0.81        38\n",
      "\n",
      "    accuracy                           0.79        67\n",
      "   macro avg       0.79      0.79      0.79        67\n",
      "weighted avg       0.79      0.79      0.79        67\n",
      "\n"
     ]
    },
    {
     "data": {
      "image/png": "[encoded data removed]",
      "text/plain": [
       "<Figure size 1000x600 with 1 Axes>"
      ]
     },
     "metadata": {},
     "output_type": "display_data"
    }
   ],
   "source": [
    "# Evaluate the model performance (this can be reused from Step 4)\n",
    "print(\"Accuracy:\", accuracy_score(y_test, y_pred))\n",
    "print(\"Confusion Matrix:\\n\", confusion_matrix(y_test, y_pred))\n",
    "print(\"Classification Report:\\n\", classification_report(y_test, y_pred))\n",
    "\n",
    "# Analyze and visualize feature importance\n",
    "import matplotlib.pyplot as plt\n",
    "import seaborn as sns\n",
    "\n",
    "# Get feature importances from the model\n",
    "feature_importances = model.feature_importances_\n",
    "importance_df = pd.DataFrame({'Feature': features, 'Importance': feature_importances}).sort_values(by='Importance', ascending=False)\n",
    "\n",
    "# Plot the feature importances\n",
    "plt.figure(figsize=(10, 6))\n",
    "sns.barplot(x='Importance', y='Feature', data=importance_df)\n",
    "plt.title('Feature Importance')\n",
    "plt.xlabel('Importance')\n",
    "plt.ylabel('Feature')\n",
    "plt.show()\n"
   ]
  }
 ],
 "metadata": {
  "kernelspec": {
   "display_name": ".venv",
   "language": "python",
   "name": "python3"
  },
  "language_info": {
   "codemirror_mode": {
    "name": "ipython",
    "version": 3
   },
   "file_extension": ".py",
   "mimetype": "text/x-python",
   "name": "python",
   "nbconvert_exporter": "python",
   "pygments_lexer": "ipython3",
   "version": "3.13.0"
  }
 },
 "nbformat": 4,
 "nbformat_minor": 2
}
